{
 "cells": [
  {
   "cell_type": "markdown",
   "metadata": {},
   "source": [
    "# Génération aléatoire de nombres premiers"
   ]
  },
  {
   "cell_type": "markdown",
   "metadata": {},
   "source": [
    "### Code fait par : Anass Bousseaden, Baptiste Bédouret et Alexandre Bousquet"
   ]
  },
  {
   "cell_type": "code",
   "execution_count": 2,
   "metadata": {},
   "outputs": [],
   "source": [
    "from random import randint\n",
    "import math "
   ]
  },
  {
   "cell_type": "markdown",
   "metadata": {},
   "source": [
    "#  Test probabiliste de primalité"
   ]
  },
  {
   "cell_type": "markdown",
   "metadata": {},
   "source": [
    "### 1-Test de Fermat"
   ]
  },
  {
   "cell_type": "code",
   "execution_count": 3,
   "metadata": {},
   "outputs": [],
   "source": [
    "def TestPrimaliteFermat(n):\n",
    "    a=randint(1,n-1)\n",
    "    if (power_mod(a,n-1,n)-1)% n ==0:  # si a^n-1 est congrus à 1 mod n\n",
    "        return \"premier\" # n est probablement premier\n",
    "    return \"compose\" # n est composé"
   ]
  },
  {
   "cell_type": "code",
   "execution_count": 4,
   "metadata": {},
   "outputs": [],
   "source": [
    "def TestPrimaliteFermatItere(n,t):\n",
    "    for i in range(t):\n",
    "        a=randint(1,n-1)\n",
    "        if (power_mod(a,n-1,n)-1)% n ==0:\n",
    "            return \"premier\"\n",
    "    return \"compose\""
   ]
  },
  {
   "cell_type": "markdown",
   "metadata": {},
   "source": [
    "### 2- Test de Miller-Rabin\n"
   ]
  },
  {
   "cell_type": "code",
   "execution_count": 5,
   "metadata": {},
   "outputs": [],
   "source": [
    "def decomp(N): #calcule s,t tels que N=2^s*t, t impair\n",
    "    s=valuation(N,2)\n",
    "    t=N//2^s\n",
    "    return(s,t)"
   ]
  },
  {
   "cell_type": "code",
   "execution_count": 6,
   "metadata": {},
   "outputs": [],
   "source": [
    "def MillerRabin(n,a):\n",
    "    (s,t)=decomp(n-1)\n",
    "    if(power_mod(a,t,n)-1)% n ==0: # si a^t est congrus à 1 mod n\n",
    "        return \"premier\" \n",
    "    for i in [0..s-1]:\n",
    "        if (power_mod(a,t*2^i,n)+1) % n==0: # si a^(t*2^i) est congrus à -1 mod n\n",
    "            return \"premier\"\n",
    "    return \"compose\""
   ]
  },
  {
   "cell_type": "code",
   "execution_count": 7,
   "metadata": {},
   "outputs": [],
   "source": [
    "def Miller_Rabin(n,k):  # répete le test MillerRabin k fois\n",
    "    for i in range (k):\n",
    "        a=randint(2,n-2)\n",
    "        if (MillerRabin(n,a)==\"compose\"):\n",
    "            return False  #False si n composé\n",
    "    return True           #True si n premier     "
   ]
  },
  {
   "cell_type": "markdown",
   "metadata": {},
   "source": [
    "# Test de primalité"
   ]
  },
  {
   "cell_type": "markdown",
   "metadata": {},
   "source": [
    "### 1-Test de Lucas-Lehmer pour les nombres de Mersennes"
   ]
  },
  {
   "cell_type": "code",
   "execution_count": 7,
   "metadata": {},
   "outputs": [],
   "source": [
    "def TestLucas(s):\n",
    "    n=(1<<(s)) - 1 \n",
    "    for i in range (2,floor(sqrt(s))):\n",
    "        if (n%i == 0): # si i divise n \n",
    "            return \"compose\"\n",
    "    u=4\n",
    "    for _ in range(s-2):\n",
    "        u=power_mod(u,2,n)-2\n",
    "    if(u==0):\n",
    "        return \"premier\"\n",
    "    return \"compose\""
   ]
  },
  {
   "cell_type": "code",
   "execution_count": 8,
   "metadata": {},
   "outputs": [
    {
     "name": "stdout",
     "output_type": "stream",
     "text": [
      "CPU times: user 109 ms, sys: 0 ns, total: 109 ms\n",
      "Wall time: 115 ms\n"
     ]
    },
    {
     "data": {
      "text/plain": [
       "('premier', 'compose')"
      ]
     },
     "execution_count": 8,
     "metadata": {},
     "output_type": "execute_result"
    }
   ],
   "source": [
    "%time TestLucas(2203), TestLucas(2039)"
   ]
  },
  {
   "cell_type": "markdown",
   "metadata": {},
   "source": [
    "### 2-Test de Pocklington-Lehmer"
   ]
  },
  {
   "cell_type": "code",
   "execution_count": 9,
   "metadata": {},
   "outputs": [],
   "source": [
    "def PocklingtonBis(n,F_PrimeFactors):\n",
    "    a=randint(2,n-2)\n",
    "    if(power_mod(a,n-1,n)!=1):\n",
    "        return \"probablement compose\"\n",
    "    for p in F_PrimeFactors:\n",
    "        R=power_mod(a,(n-1)//p,n)\n",
    "        if(gcd(R,n)!=1):\n",
    "            return \"probablement compose\"\n",
    "    return \"premier\""
   ]
  },
  {
   "cell_type": "code",
   "execution_count": 10,
   "metadata": {},
   "outputs": [],
   "source": [
    "def pocklington(n,F_PrimeFactors):\n",
    "    T=1 # if p\n",
    "    for _ in range(T):\n",
    "        if(PocklingtonBis(n,F_PrimeFactors)==\"premier\"):\n",
    "            return \"premier\"\n",
    "    return \"probablement compose\""
   ]
  },
  {
   "cell_type": "code",
   "execution_count": 11,
   "metadata": {},
   "outputs": [],
   "source": [
    "n=2**521-1"
   ]
  },
  {
   "cell_type": "code",
   "execution_count": 12,
   "metadata": {},
   "outputs": [
    {
     "data": {
      "text/plain": [
       "2 * 3 * 5^2 * 11 * 17 * 31 * 41 * 53 * 131 * 157 * 521 * 1613 * 2731 * 8191 * 42641 * 51481 * 61681 * 409891 * 858001 * 5746001 * 7623851 * 34110701 * 308761441 * 2400573761 * 65427463921 * 108140989558681 * 145295143558111 * 173308343918874810521923841"
      ]
     },
     "execution_count": 12,
     "metadata": {},
     "output_type": "execute_result"
    }
   ],
   "source": [
    "factor(n-1)"
   ]
  },
  {
   "cell_type": "code",
   "execution_count": 13,
   "metadata": {},
   "outputs": [],
   "source": [
    "F_partialprimefactors=[2,3,5^2,11,17,31,41,53,131,157,521,1613,2731,8191,42641,51481,61681,409891,858001,5746001,7623851,34110701,34110701]"
   ]
  },
  {
   "cell_type": "code",
   "execution_count": 14,
   "metadata": {},
   "outputs": [
    {
     "name": "stdout",
     "output_type": "stream",
     "text": [
      "CPU times: user 31 ms, sys: 0 ns, total: 31 ms\n",
      "Wall time: 49.5 ms\n"
     ]
    },
    {
     "data": {
      "text/plain": [
       "'premier'"
      ]
     },
     "execution_count": 14,
     "metadata": {},
     "output_type": "execute_result"
    }
   ],
   "source": [
    "%time pocklington(n,F_partialprimefactors) #On a choisi F_partialprimefactors > sqrt(n)-1 "
   ]
  },
  {
   "cell_type": "markdown",
   "metadata": {},
   "source": [
    "# Génération de nombres premiers"
   ]
  },
  {
   "cell_type": "markdown",
   "metadata": {},
   "source": [
    "### 1-Algorithme de recherche aléatoire"
   ]
  },
  {
   "cell_type": "code",
   "execution_count": 8,
   "metadata": {},
   "outputs": [],
   "source": [
    "def RandomSearch(t,k,L=[3]):\n",
    "    while(true):\n",
    "        n=(getrandbits(k-1)<<1)+1\n",
    "        for x in L:\n",
    "            if(n%x==0):\n",
    "                continue\n",
    "        if(Miller_Rabin(n,t)):\n",
    "            return n   "
   ]
  },
  {
   "cell_type": "code",
   "execution_count": 16,
   "metadata": {},
   "outputs": [],
   "source": [
    "def RandomSearch_Pgcd(t,k,ProductPrimes):\n",
    "    while(true):\n",
    "        n=(getrandbits(k-1)<<1)+1\n",
    "        if(gcd(n,ProductPrimes)!=1):\n",
    "            continue\n",
    "        if(Miller_Rabin(n,t)) :\n",
    "            return n  "
   ]
  },
  {
   "cell_type": "code",
   "execution_count": 17,
   "metadata": {},
   "outputs": [
    {
     "name": "stdout",
     "output_type": "stream",
     "text": [
      "CPU times: user 4.77 s, sys: 0 ns, total: 4.77 s\n",
      "Wall time: 4.8 s\n"
     ]
    },
    {
     "data": {
      "text/plain": [
       "105655885358097401961841852385267313579707976142278955355466291246068495142852524352360395094900179447180193313471184694581336451156869045904686578135895647804223717133881612908052732789442189386189118316928056178927401995710398361299199791383847994624397647500379699179085834723438538255776531180557184976973"
      ]
     },
     "execution_count": 17,
     "metadata": {},
     "output_type": "execute_result"
    }
   ],
   "source": [
    "%time RandomSearch(4,1024,prime_range(16)) #Borne B expérimentale optimale est 16"
   ]
  },
  {
   "cell_type": "code",
   "execution_count": 18,
   "metadata": {},
   "outputs": [
    {
     "data": {
      "text/plain": [
       "True"
      ]
     },
     "execution_count": 18,
     "metadata": {},
     "output_type": "execute_result"
    }
   ],
   "source": [
    "n=RandomSearch(4,1024,prime_range(16))\n",
    "is_prime(n)"
   ]
  },
  {
   "cell_type": "markdown",
   "metadata": {},
   "source": [
    "### 2-Algorithme de Gordon"
   ]
  },
  {
   "cell_type": "code",
   "execution_count": 9,
   "metadata": {},
   "outputs": [],
   "source": [
    "def Gordon(bits,k=20,i0=1,j0=1):\n",
    "    s=RandomSearch(k,bits)\n",
    "    t=RandomSearch(k,bits)\n",
    "    i=i0\n",
    "    r=2*i*t+1\n",
    "    while(Miller_Rabin(r,k)==False):\n",
    "        i=i+1\n",
    "        r=2*i*t+1\n",
    "    p0=2*(power_mod(s,r-2,r))*s-1\n",
    "    j=j0\n",
    "    p=p0+2*j*r*s\n",
    "    while(Miller_Rabin(p,k)==False):\n",
    "        j=j+1\n",
    "        p=p0+2*j*r*s\n",
    "    return p"
   ]
  },
  {
   "cell_type": "code",
   "execution_count": 10,
   "metadata": {},
   "outputs": [
    {
     "name": "stdout",
     "output_type": "stream",
     "text": [
      "CPU times: user 6.89 s, sys: 139 ms, total: 7.03 s\n",
      "Wall time: 6.95 s\n"
     ]
    },
    {
     "data": {
      "text/plain": [
       "845968316668158901246722126750903739418373882620393301910971412108215615749719493791184977579769060047279628397205668757317761388374461251997459468991380629505153036626945953335495744348376238125183705275402472294481376911893384345878645137275374726181733085045932540252546280184593224751597742725702330211621992341780596774025323119754748790704699158005157285899950049052181467580804806186490159913489688429396157560268660326073473607176763797059934896657522516620054879043604162465029151315681882849889228328341107566311729589387969004349354020140532927506966046513632419519536519178229873353784365807002230476990595801"
      ]
     },
     "execution_count": 10,
     "metadata": {},
     "output_type": "execute_result"
    }
   ],
   "source": [
    "%time Gordon(1024)"
   ]
  },
  {
   "cell_type": "code",
   "execution_count": 21,
   "metadata": {},
   "outputs": [
    {
     "data": {
      "text/plain": [
       "True"
      ]
     },
     "execution_count": 21,
     "metadata": {},
     "output_type": "execute_result"
    }
   ],
   "source": [
    "n2=Gordon(1024)\n",
    "is_prime(n2)"
   ]
  },
  {
   "cell_type": "markdown",
   "metadata": {},
   "source": [
    "### 3- Algorithme DSA"
   ]
  },
  {
   "cell_type": "code",
   "execution_count": 14,
   "metadata": {},
   "outputs": [],
   "source": [
    "import hashlib\n",
    "import hmac"
   ]
  },
  {
   "cell_type": "code",
   "execution_count": 15,
   "metadata": {},
   "outputs": [],
   "source": [
    "def DSA(l):\n",
    "    #Etape 1:\n",
    "    L=2048+64*l\n",
    "    n=(L-1)//256\n",
    "    b=(L-1)%256\n",
    "    \n",
    "    #Etape 2:\n",
    "    g=256\n",
    "    s=randint(2^255,2^400)\n",
    "    \n",
    "    #Convertir U1 de la base 16 à la base 10\n",
    "    sha2 = hashlib.sha256\n",
    "    hashHexa = sha2(str(s).encode('utf-8')).hexdigest()\n",
    "    h1=ZZ(hashHexa,16)\n",
    "    \n",
    "    U1=int (str(h1),16)\n",
    "    \n",
    "    #Convertir U2 de la base 16 à la base 10\n",
    "    sha2 = hashlib.sha256\n",
    "    hashHexa = sha2(str(power_mod(s+1,1,2**g)).encode('utf-8')).hexdigest()\n",
    "    h2=ZZ(hashHexa,16)\n",
    "    \n",
    "    U2=int (str(h2),16)\n",
    "    \n",
    "    #Faire le xor\n",
    "    U=U1^^U2\n",
    "   \n",
    "    #Faire une liste\n",
    "    old_string=str(U)\n",
    "    string_list=list(old_string)\n",
    "    U_list = list(map(int, string_list))\n",
    "\n",
    "    #Mettre bit poids fort/faible et changer la liste en un nombre entier\n",
    "    U_list[0]=1\n",
    "    U_list[-1]=1\n",
    "    Z=\"\".join(map(str, U_list))\n",
    "    q=int(str(Z))\n",
    "    \n",
    "    while (True):\n",
    "        while(Miller_Rabin(q,18)==False):\n",
    "            s=randint(2^255,2^400)\n",
    "            #Convertir U1 de la base 16 à la base 10\n",
    "            sha2 = hashlib.sha256\n",
    "            hashHexa = sha2(str(s).encode('utf-8')).hexdigest()\n",
    "            h1=ZZ(hashHexa,16)\n",
    "    \n",
    "            U1=int (str(h1),16)\n",
    "    \n",
    "            #Convertir U2 de la base 16 à la base 10\n",
    "            sha2 = hashlib.sha256\n",
    "            hashHexa = sha2(str(power_mod(s+1,1,2**g)).encode('utf-8')).hexdigest()\n",
    "            h2=ZZ(hashHexa,16)\n",
    "    \n",
    "            U2=int (str(h2),16)\n",
    "    \n",
    "            #Faire le xor\n",
    "            U=U1^^U2\n",
    "   \n",
    "            #Faire une liste\n",
    "            old_string=str(U)\n",
    "            string_list=list(old_string)\n",
    "            U_list = list(map(int, string_list))\n",
    "\n",
    "            #Mettre bit poids fort/faible et changer la liste en un nombre entier\n",
    "            U_list[0]=1\n",
    "            U_list[-1]=1\n",
    "            Z=\"\".join(map(str, U_list))\n",
    "            q=int(str(Z))\n",
    "                   \n",
    "    #Etape 3:\n",
    "        i=0\n",
    "        j=2\n",
    "    #Etape 4:\n",
    "        while i<4096:\n",
    "            W=0\n",
    "            for k in range(0,n-1):\n",
    "                \n",
    "                # Convertir V de la base 16 à la base 10\n",
    "                sha2 = hashlib.sha256\n",
    "                hashHexa = sha2(str(power_mod(s+j+k,1,2**g)).encode('utf-8')).hexdigest()\n",
    "                h3=ZZ(hashHexa,16)\n",
    "                \n",
    "                V=int(str(h3),16)\n",
    "                W+=V*2**(256*k)\n",
    "             \n",
    "            sha2 = hashlib.sha256\n",
    "            hashHexa = sha2(str(power_mod(s+j+n,1,2**g)).encode('utf-8')).hexdigest()\n",
    "            h4=ZZ(hashHexa,16)\n",
    "            \n",
    "            Vn=int (str(h4),16)\n",
    "            W=W+(power_mod(Vn,1,2**b))*2**(256*n)\n",
    "            X=W+2**(L-1)\n",
    "            c=power_mod(X,1,2*q)\n",
    "            p=X-(c-1)\n",
    "            if p>=2**(L-1):\n",
    "                if(Miller_Rabin(p,5)==True):\n",
    "                    return (p,q)\n",
    "            i=i+1\n",
    "            j=j+n+1"
   ]
  },
  {
   "cell_type": "code",
   "execution_count": 16,
   "metadata": {},
   "outputs": [
    {
     "name": "stdout",
     "output_type": "stream",
     "text": [
      "CPU times: user 662 ms, sys: 54 ms, total: 716 ms\n",
      "Wall time: 673 ms\n"
     ]
    },
    {
     "data": {
      "text/plain": [
       "(489954446196911429508949597408578747654758250781368536665852545595112085236016260759025928084139760909070274771928802719962352427203255777040342144828872613365226684637120132917607138158564412983556110207361008558757943011177477903071691373513042596661747185362231591212459792350465503694718513481719139149278187714059559882814020102018544028621698109399243805596620430793338078471229957897830228746898464753904363647781384400962566419071749494241811777744410560620651587021842986205553844678138569993898703952254026142929064780535390265070215982143614574642675632160734557791250948794891462444022572222636889579694620103562517533174027,\n",
       " 167412610479999512930897469062349386488969417469342249818221185770524966957464569998408708361L)"
      ]
     },
     "execution_count": 16,
     "metadata": {},
     "output_type": "execute_result"
    }
   ],
   "source": [
    "% time DSA(1)"
   ]
  },
  {
   "cell_type": "code",
   "execution_count": 17,
   "metadata": {},
   "outputs": [
    {
     "data": {
      "text/plain": [
       "(True, True)"
      ]
     },
     "execution_count": 17,
     "metadata": {},
     "output_type": "execute_result"
    }
   ],
   "source": [
    "(n3,n4)=DSA(1)\n",
    "is_prime(n3),is_prime(n4)"
   ]
  }
 ],
 "metadata": {
  "kernelspec": {
   "display_name": "SageMath 9.1",
   "language": "sage",
   "name": "sagemath"
  },
  "language_info": {
   "codemirror_mode": {
    "name": "ipython",
    "version": 2
   },
   "file_extension": ".py",
   "mimetype": "text/x-python",
   "name": "python",
   "nbconvert_exporter": "python",
   "pygments_lexer": "ipython2",
   "version": "2.7.15"
  }
 },
 "nbformat": 4,
 "nbformat_minor": 2
}
